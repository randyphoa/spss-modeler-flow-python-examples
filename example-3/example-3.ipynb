{
 "cells": [
  {
   "cell_type": "markdown",
   "metadata": {
    "id": "6e3d430a-3cb0-463c-820e-28bfe5f2cef8"
   },
   "source": [
    "# Example 3: Import Python scripts from Watson Studio/Watson Machine Learning"
   ]
  },
  {
   "cell_type": "markdown",
   "metadata": {},
   "source": [
    "## Use case\n",
    "\n",
    "\n",
    "An alternative to using the code editor in Extension Model node.\n"
   ]
  },
  {
   "cell_type": "markdown",
   "metadata": {
    "id": "3a4fb7b1-6313-44fb-bdad-7cff8ca060d6",
    "tags": []
   },
   "source": [
    "## Build Syntax in Extension Model node\n",
    "\n",
    "Copy and the below code to the Build Syntax section of Extension Model node "
   ]
  },
  {
   "cell_type": "code",
   "execution_count": null,
   "metadata": {
    "id": "ba72fcb0-7265-4809-a42a-1c03eceb48af",
    "tags": []
   },
   "outputs": [],
   "source": [
    "PROJECT_ID = \"79fe8fa3-5a7e-4282-b4d6-35e34509a5df\"\n",
    "SCRIPT_NAME = \"extension_build.py\"\n",
    "\n",
    "import sys\n",
    "import subprocess\n",
    "subprocess.check_call([sys.executable, \"-m\", \"pip\", \"install\", \"pandas\", \"ibm-watson-machine-learning\", \"scikit-learn\", \"--no-input\"])\n",
    "\n",
    "import importlib\n",
    "import ibm_watson_machine_learning\n",
    "\n",
    "wml_credentials = {\n",
    "    \"username\": \"admin\",\n",
    "    \"password\": \"xxx\",\n",
    "    \"url\": \"https://cpd-cpd.itzroks-550003aw18-kv78z8-6ccd7f378ae819553d37d5f2ee142bd6-0000.au-syd.containers.appdomain.cloud/\",\n",
    "    \"instance_id\": \"openshift\",\n",
    "    \"version\": \"4.5\",\n",
    "}\n",
    "\n",
    "wml_client = ibm_watson_machine_learning.APIClient(wml_credentials)\n",
    "wml_client.set.default_project(PROJECT_ID)\n",
    "assets = {x[\"metadata\"][\"name\"]: x[\"metadata\"][\"asset_id\"] for x in wml_client.data_assets.get_details()[\"resources\"]}\n",
    "wml_client.data_assets.download(assets[SCRIPT_NAME], SCRIPT_NAME)\n",
    "importlib.import_module(SCRIPT_NAME.replace(\".py\", \"\"))"
   ]
  },
  {
   "cell_type": "markdown",
   "metadata": {
    "id": "4adb262b-118c-41d6-8f82-6aab206a0501"
   },
   "source": [
    "## Score Syntax in Extension Model node\n",
    "\n",
    "Copy and the below code to the Build Syntax section of Extension Model node "
   ]
  },
  {
   "cell_type": "code",
   "execution_count": null,
   "metadata": {
    "id": "9ca8d20e-4ca3-4ca3-99e6-31841e6eca01",
    "tags": []
   },
   "outputs": [],
   "source": [
    "PROJECT_ID = \"79fe8fa3-5a7e-4282-b4d6-35e34509a5df\"\n",
    "SCRIPT_NAME = \"extension_score.py\"\n",
    "\n",
    "import sys\n",
    "import subprocess\n",
    "subprocess.check_call([sys.executable, \"-m\", \"pip\", \"install\", \"pandas\", \"ibm-watson-machine-learning\", \"scikit-learn\", \"--no-input\"])\n",
    "\n",
    "import importlib\n",
    "import ibm_watson_machine_learning\n",
    "\n",
    "wml_credentials = {\n",
    "    \"username\": \"admin\",\n",
    "    \"password\": \"xxx\",\n",
    "    \"url\": \"https://cpd-cpd.itzroks-550003aw18-kv78z8-6ccd7f378ae819553d37d5f2ee142bd6-0000.au-syd.containers.appdomain.cloud/\",\n",
    "    \"instance_id\": \"openshift\",\n",
    "    \"version\": \"4.5\",\n",
    "}\n",
    "\n",
    "wml_client = ibm_watson_machine_learning.APIClient(wml_credentials)\n",
    "wml_client.set.default_project(PROJECT_ID)\n",
    "assets = {x[\"metadata\"][\"name\"]: x[\"metadata\"][\"asset_id\"] for x in wml_client.data_assets.get_details()[\"resources\"]}\n",
    "wml_client.data_assets.download(assets[SCRIPT_NAME], SCRIPT_NAME)\n",
    "importlib.import_module(SCRIPT_NAME.replace(\".py\", \"\"))"
   ]
  }
 ],
 "metadata": {
  "kernelspec": {
   "display_name": "Python 3.8.8 ('base')",
   "language": "python",
   "name": "python3"
  },
  "language_info": {
   "codemirror_mode": {
    "name": "ipython",
    "version": 3
   },
   "file_extension": ".py",
   "mimetype": "text/x-python",
   "name": "python",
   "nbconvert_exporter": "python",
   "pygments_lexer": "ipython3",
   "version": "3.8.8"
  },
  "vscode": {
   "interpreter": {
    "hash": "e4cce46d6be9934fbd27f9ca0432556941ea5bdf741d4f4d64c6cd7f8dfa8fba"
   }
  }
 },
 "nbformat": 4,
 "nbformat_minor": 4
}
